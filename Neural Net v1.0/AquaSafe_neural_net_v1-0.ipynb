{
  "nbformat": 4,
  "nbformat_minor": 0,
  "metadata": {
    "colab": {
      "name": "Raspberry_pico_project_neural_network.ipynb",
      "provenance": [],
      "collapsed_sections": []
    },
    "kernelspec": {
      "name": "python3",
      "display_name": "Python 3"
    },
    "language_info": {
      "name": "python"
    }
  },
  "cells": [
    {
      "cell_type": "code",
      "execution_count": 110,
      "metadata": {
        "colab": {
          "base_uri": "https://localhost:8080/"
        },
        "id": "jeJqmGoQ-aQ6",
        "outputId": "1ca99b4a-80a8-424f-a4d1-54c258a5467e"
      },
      "outputs": [
        {
          "output_type": "stream",
          "name": "stdout",
          "text": [
            "66\n"
          ]
        }
      ],
      "source": [
        "import pandas as pd\n",
        "\n",
        "import glob\n",
        "import numpy as np\n",
        "from sklearn import preprocessing\n",
        "from sklearn.preprocessing import normalize\n",
        "from sklearn.model_selection import train_test_split\n",
        "files = np.sort(glob.glob(\"/content/drive/MyDrive/Combined_data/*.csv\"))\n",
        "import keras\n",
        "\n",
        "\n",
        "dataframe = pd.DataFrame(columns=['temp_vals','label'])\n",
        "empty_list = []\n",
        "label_list = []\n",
        "for i in files:\n",
        "    df = pd.read_csv(i)\n",
        "    create_arr = df.iloc[:, 0].to_list()\n",
        "    empty_list.append(create_arr)\n",
        "    if 'Grad_temp_drop' in i:\n",
        "        label_list.append(1)\n",
        "    elif 'Shrp_temp_drop' in i:\n",
        "        label_list.append(0)\n",
        "\n",
        "dataframe['temp_vals'] = empty_list\n",
        "dataframe['label'] = label_list\n",
        "\n",
        "X = dataframe['temp_vals'].to_list()\n",
        "Y = dataframe['label'].to_list()\n",
        "\n",
        "print(len(X))"
      ]
    },
    {
      "cell_type": "code",
      "source": [
        "X_train, X_test, Y_train, Y_test = train_test_split(X, Y, test_size=0.3)\n",
        "print(len(X_train))\n",
        "print(len(X_test))\n",
        "print(len(Y_train))\n",
        "print(len(Y_test))"
      ],
      "metadata": {
        "colab": {
          "base_uri": "https://localhost:8080/"
        },
        "id": "Wy3h3ySf_pzw",
        "outputId": "0b882044-043a-4903-ee37-13c9cb7c30ae"
      },
      "execution_count": 111,
      "outputs": [
        {
          "output_type": "stream",
          "name": "stdout",
          "text": [
            "46\n",
            "20\n",
            "46\n",
            "20\n"
          ]
        }
      ]
    },
    {
      "cell_type": "code",
      "source": [
        "from keras.models import Sequential\n",
        "from keras.layers import Dense\n",
        "from keras.layers import Dropout\n",
        "from keras import regularizers\n",
        "import tensorflow as tf\n",
        "from tensorflow.keras import layers\n"
      ],
      "metadata": {
        "id": "7H8lNjj0DtUT"
      },
      "execution_count": 112,
      "outputs": []
    },
    {
      "cell_type": "code",
      "source": [
        "model = Sequential([\n",
        "    Dense(10, activation='relu', input_shape=(450,)),\n",
        "    Dense(32, activation='relu'),\n",
        "    Dense(32, activation='relu'),\n",
        "    Dense(1, activation='sigmoid'),\n",
        "])\n",
        "model.summary()"
      ],
      "metadata": {
        "id": "PLVIj95xEsDE",
        "colab": {
          "base_uri": "https://localhost:8080/"
        },
        "outputId": "9262a81a-da5b-40c0-a03c-cecf1d9eef83"
      },
      "execution_count": 113,
      "outputs": [
        {
          "output_type": "stream",
          "name": "stdout",
          "text": [
            "Model: \"sequential_10\"\n",
            "_________________________________________________________________\n",
            " Layer (type)                Output Shape              Param #   \n",
            "=================================================================\n",
            " dense_40 (Dense)            (None, 10)                4510      \n",
            "                                                                 \n",
            " dense_41 (Dense)            (None, 32)                352       \n",
            "                                                                 \n",
            " dense_42 (Dense)            (None, 32)                1056      \n",
            "                                                                 \n",
            " dense_43 (Dense)            (None, 1)                 33        \n",
            "                                                                 \n",
            "=================================================================\n",
            "Total params: 5,951\n",
            "Trainable params: 5,951\n",
            "Non-trainable params: 0\n",
            "_________________________________________________________________\n"
          ]
        }
      ]
    },
    {
      "cell_type": "code",
      "source": [
        "model.compile(optimizer='adam',\n",
        "              loss='binary_crossentropy',\n",
        "              metrics=['accuracy'])"
      ],
      "metadata": {
        "id": "iPvVC63LExwR"
      },
      "execution_count": 114,
      "outputs": []
    },
    {
      "cell_type": "code",
      "source": [
        "hist = model.fit(X_train, Y_train,\n",
        "          batch_size=32, epochs=50,\n",
        "          validation_data=(X_test, Y_test))"
      ],
      "metadata": {
        "colab": {
          "base_uri": "https://localhost:8080/"
        },
        "id": "rUBFxnXKE1LO",
        "outputId": "416667be-c237-4c6d-af46-88dddc138599"
      },
      "execution_count": 115,
      "outputs": [
        {
          "output_type": "stream",
          "name": "stdout",
          "text": [
            "Epoch 1/50\n",
            "2/2 [==============================] - 1s 189ms/step - loss: 0.9502 - accuracy: 0.4348 - val_loss: 0.7016 - val_accuracy: 0.6500\n",
            "Epoch 2/50\n",
            "2/2 [==============================] - 0s 42ms/step - loss: 0.8700 - accuracy: 0.4565 - val_loss: 0.6486 - val_accuracy: 0.6500\n",
            "Epoch 3/50\n",
            "2/2 [==============================] - 0s 37ms/step - loss: 0.7333 - accuracy: 0.5000 - val_loss: 0.6278 - val_accuracy: 0.6500\n",
            "Epoch 4/50\n",
            "2/2 [==============================] - 0s 34ms/step - loss: 0.7106 - accuracy: 0.5217 - val_loss: 0.5687 - val_accuracy: 0.7000\n",
            "Epoch 5/50\n",
            "2/2 [==============================] - 0s 32ms/step - loss: 0.6728 - accuracy: 0.5652 - val_loss: 0.5744 - val_accuracy: 0.8000\n",
            "Epoch 6/50\n",
            "2/2 [==============================] - 0s 83ms/step - loss: 0.6422 - accuracy: 0.6739 - val_loss: 0.6260 - val_accuracy: 0.8500\n",
            "Epoch 7/50\n",
            "2/2 [==============================] - 0s 53ms/step - loss: 0.6555 - accuracy: 0.7391 - val_loss: 0.5567 - val_accuracy: 0.8000\n",
            "Epoch 8/50\n",
            "2/2 [==============================] - 0s 49ms/step - loss: 0.6076 - accuracy: 0.6957 - val_loss: 0.5392 - val_accuracy: 0.7000\n",
            "Epoch 9/50\n",
            "2/2 [==============================] - 0s 58ms/step - loss: 0.6198 - accuracy: 0.6739 - val_loss: 0.5235 - val_accuracy: 0.7500\n",
            "Epoch 10/50\n",
            "2/2 [==============================] - 0s 75ms/step - loss: 0.5733 - accuracy: 0.7609 - val_loss: 0.5631 - val_accuracy: 0.8500\n",
            "Epoch 11/50\n",
            "2/2 [==============================] - 0s 45ms/step - loss: 0.5646 - accuracy: 0.8261 - val_loss: 0.5479 - val_accuracy: 0.9000\n",
            "Epoch 12/50\n",
            "2/2 [==============================] - 0s 62ms/step - loss: 0.5353 - accuracy: 0.8261 - val_loss: 0.4571 - val_accuracy: 0.8500\n",
            "Epoch 13/50\n",
            "2/2 [==============================] - 0s 73ms/step - loss: 0.4746 - accuracy: 0.8043 - val_loss: 0.4581 - val_accuracy: 0.9000\n",
            "Epoch 14/50\n",
            "2/2 [==============================] - 0s 53ms/step - loss: 0.4036 - accuracy: 0.9348 - val_loss: 0.3298 - val_accuracy: 0.9000\n",
            "Epoch 15/50\n",
            "2/2 [==============================] - 0s 78ms/step - loss: 0.2799 - accuracy: 0.9130 - val_loss: 0.3295 - val_accuracy: 0.9000\n",
            "Epoch 16/50\n",
            "2/2 [==============================] - 0s 47ms/step - loss: 0.2426 - accuracy: 0.9565 - val_loss: 0.2012 - val_accuracy: 0.9000\n",
            "Epoch 17/50\n",
            "2/2 [==============================] - 0s 72ms/step - loss: 0.2295 - accuracy: 0.8913 - val_loss: 0.2218 - val_accuracy: 0.9500\n",
            "Epoch 18/50\n",
            "2/2 [==============================] - 0s 42ms/step - loss: 0.2268 - accuracy: 0.9348 - val_loss: 0.4943 - val_accuracy: 0.7500\n",
            "Epoch 19/50\n",
            "2/2 [==============================] - 0s 48ms/step - loss: 0.2842 - accuracy: 0.8478 - val_loss: 0.1765 - val_accuracy: 0.9000\n",
            "Epoch 20/50\n",
            "2/2 [==============================] - 0s 155ms/step - loss: 0.1824 - accuracy: 0.9130 - val_loss: 0.1893 - val_accuracy: 0.9500\n",
            "Epoch 21/50\n",
            "2/2 [==============================] - 0s 49ms/step - loss: 0.1617 - accuracy: 0.9565 - val_loss: 0.2846 - val_accuracy: 0.9000\n",
            "Epoch 22/50\n",
            "2/2 [==============================] - 0s 69ms/step - loss: 0.1669 - accuracy: 0.9565 - val_loss: 0.1598 - val_accuracy: 0.9000\n",
            "Epoch 23/50\n",
            "2/2 [==============================] - 0s 47ms/step - loss: 0.2410 - accuracy: 0.8913 - val_loss: 0.2294 - val_accuracy: 0.9500\n",
            "Epoch 24/50\n",
            "2/2 [==============================] - 0s 67ms/step - loss: 0.1484 - accuracy: 0.9783 - val_loss: 0.2051 - val_accuracy: 0.9500\n",
            "Epoch 25/50\n",
            "2/2 [==============================] - 0s 54ms/step - loss: 0.1442 - accuracy: 0.9565 - val_loss: 0.1336 - val_accuracy: 0.9500\n",
            "Epoch 26/50\n",
            "2/2 [==============================] - 0s 81ms/step - loss: 0.1535 - accuracy: 0.9348 - val_loss: 0.3248 - val_accuracy: 0.8500\n",
            "Epoch 27/50\n",
            "2/2 [==============================] - 0s 73ms/step - loss: 0.1511 - accuracy: 0.9565 - val_loss: 0.1271 - val_accuracy: 0.9500\n",
            "Epoch 28/50\n",
            "2/2 [==============================] - 0s 48ms/step - loss: 0.1780 - accuracy: 0.8913 - val_loss: 0.3742 - val_accuracy: 0.8500\n",
            "Epoch 29/50\n",
            "2/2 [==============================] - 0s 52ms/step - loss: 0.3140 - accuracy: 0.8478 - val_loss: 0.1619 - val_accuracy: 0.9000\n",
            "Epoch 30/50\n",
            "2/2 [==============================] - 0s 53ms/step - loss: 0.5062 - accuracy: 0.8043 - val_loss: 0.1895 - val_accuracy: 0.9000\n",
            "Epoch 31/50\n",
            "2/2 [==============================] - 0s 49ms/step - loss: 0.2581 - accuracy: 0.8696 - val_loss: 1.0346 - val_accuracy: 0.5500\n",
            "Epoch 32/50\n",
            "2/2 [==============================] - 0s 116ms/step - loss: 0.4833 - accuracy: 0.7391 - val_loss: 0.1220 - val_accuracy: 0.9000\n",
            "Epoch 33/50\n",
            "2/2 [==============================] - 0s 68ms/step - loss: 0.2281 - accuracy: 0.9130 - val_loss: 0.2193 - val_accuracy: 0.9000\n",
            "Epoch 34/50\n",
            "2/2 [==============================] - 0s 45ms/step - loss: 0.3814 - accuracy: 0.8478 - val_loss: 0.3042 - val_accuracy: 0.8500\n",
            "Epoch 35/50\n",
            "2/2 [==============================] - 0s 46ms/step - loss: 0.1720 - accuracy: 0.9130 - val_loss: 0.4792 - val_accuracy: 0.8000\n",
            "Epoch 36/50\n",
            "2/2 [==============================] - 0s 94ms/step - loss: 0.2450 - accuracy: 0.8913 - val_loss: 0.1164 - val_accuracy: 0.9000\n",
            "Epoch 37/50\n",
            "2/2 [==============================] - 0s 95ms/step - loss: 0.1339 - accuracy: 0.9348 - val_loss: 0.1150 - val_accuracy: 0.9000\n",
            "Epoch 38/50\n",
            "2/2 [==============================] - 0s 54ms/step - loss: 0.1390 - accuracy: 0.9348 - val_loss: 0.1805 - val_accuracy: 0.9500\n",
            "Epoch 39/50\n",
            "2/2 [==============================] - 0s 45ms/step - loss: 0.1041 - accuracy: 1.0000 - val_loss: 0.1926 - val_accuracy: 0.9500\n",
            "Epoch 40/50\n",
            "2/2 [==============================] - 0s 52ms/step - loss: 0.1059 - accuracy: 0.9783 - val_loss: 0.1508 - val_accuracy: 0.9500\n",
            "Epoch 41/50\n",
            "2/2 [==============================] - 0s 42ms/step - loss: 0.1042 - accuracy: 0.9783 - val_loss: 0.1840 - val_accuracy: 0.9500\n",
            "Epoch 42/50\n",
            "2/2 [==============================] - 0s 42ms/step - loss: 0.1023 - accuracy: 1.0000 - val_loss: 0.2056 - val_accuracy: 0.9500\n",
            "Epoch 43/50\n",
            "2/2 [==============================] - 0s 58ms/step - loss: 0.1013 - accuracy: 0.9565 - val_loss: 0.1182 - val_accuracy: 0.9500\n",
            "Epoch 44/50\n",
            "2/2 [==============================] - 0s 84ms/step - loss: 0.1074 - accuracy: 0.9348 - val_loss: 0.1501 - val_accuracy: 0.9500\n",
            "Epoch 45/50\n",
            "2/2 [==============================] - 0s 50ms/step - loss: 0.0893 - accuracy: 1.0000 - val_loss: 0.2931 - val_accuracy: 0.9000\n",
            "Epoch 46/50\n",
            "2/2 [==============================] - 0s 73ms/step - loss: 0.1247 - accuracy: 0.9348 - val_loss: 0.1239 - val_accuracy: 0.9500\n",
            "Epoch 47/50\n",
            "2/2 [==============================] - 0s 104ms/step - loss: 0.1062 - accuracy: 0.9565 - val_loss: 0.1053 - val_accuracy: 0.9500\n",
            "Epoch 48/50\n",
            "2/2 [==============================] - 0s 68ms/step - loss: 0.0941 - accuracy: 0.9565 - val_loss: 0.2439 - val_accuracy: 0.9000\n",
            "Epoch 49/50\n",
            "2/2 [==============================] - 0s 110ms/step - loss: 0.1241 - accuracy: 0.9348 - val_loss: 0.1543 - val_accuracy: 0.9500\n",
            "Epoch 50/50\n",
            "2/2 [==============================] - 0s 78ms/step - loss: 0.0954 - accuracy: 0.9783 - val_loss: 0.1000 - val_accuracy: 0.9500\n"
          ]
        }
      ]
    },
    {
      "cell_type": "code",
      "source": [
        "model.evaluate(X_test, Y_test)[1]"
      ],
      "metadata": {
        "colab": {
          "base_uri": "https://localhost:8080/"
        },
        "id": "GHsXH7qQGkgG",
        "outputId": "906b2181-ad91-4128-95ec-dbe4188d4e9b"
      },
      "execution_count": 116,
      "outputs": [
        {
          "output_type": "stream",
          "name": "stdout",
          "text": [
            "1/1 [==============================] - 0s 57ms/step - loss: 0.1000 - accuracy: 0.9500\n"
          ]
        },
        {
          "output_type": "execute_result",
          "data": {
            "text/plain": [
              "0.949999988079071"
            ]
          },
          "metadata": {},
          "execution_count": 116
        }
      ]
    },
    {
      "cell_type": "code",
      "source": [
        "import matplotlib.pyplot as plt\n",
        "plt.plot(hist.history['loss'])\n",
        "plt.plot(hist.history['val_loss'])\n",
        "plt.title('Trained Neural net model loss')\n",
        "plt.ylabel('Loss')\n",
        "plt.xlabel('Epoch')\n",
        "plt.legend(['Training', 'Testing'], loc='upper right')\n",
        "plt.savefig('model_loss.png')"
      ],
      "metadata": {
        "colab": {
          "base_uri": "https://localhost:8080/",
          "height": 295
        },
        "id": "vgbO8mvaG0Ef",
        "outputId": "a57412b2-778b-47ac-9754-7a5616c2f7ab"
      },
      "execution_count": 117,
      "outputs": [
        {
          "output_type": "display_data",
          "data": {
            "text/plain": [
              "<Figure size 432x288 with 1 Axes>"
            ],
            "image/png": "[encoded data removed]"
          },
          "metadata": {
            "needs_background": "light"
          }
        }
      ]
    },
    {
      "cell_type": "code",
      "source": [
        "plt.plot(hist.history['accuracy'])\n",
        "plt.plot(hist.history['val_accuracy'])\n",
        "plt.title('Trained Neural net model accuracy')\n",
        "plt.ylabel('Accuracy')\n",
        "plt.xlabel('Epoch')\n",
        "plt.legend(['Training', 'Testing'], loc='lower right')\n",
        "plt.savefig('model_accuracy.png')"
      ],
      "metadata": {
        "colab": {
          "base_uri": "https://localhost:8080/",
          "height": 295
        },
        "id": "GutzDdRiG6vk",
        "outputId": "5eb710fb-7770-405f-cb70-4ce4ffaebf52"
      },
      "execution_count": 118,
      "outputs": [
        {
          "output_type": "display_data",
          "data": {
            "text/plain": [
              "<Figure size 432x288 with 1 Axes>"
            ],
            "image/png": "[encoded data removed]"
          },
          "metadata": {
            "needs_background": "light"
          }
        }
      ]
    },
    {
      "cell_type": "code",
      "source": [
        "from sklearn.datasets import make_circles\n",
        "from sklearn.metrics import accuracy_score\n",
        "from sklearn.metrics import classification_report\n",
        "from sklearn.metrics import precision_score\n",
        "from sklearn.metrics import recall_score\n",
        "from sklearn.metrics import f1_score\n",
        "from sklearn.metrics import cohen_kappa_score\n",
        "from sklearn.metrics import roc_auc_score\n",
        "from sklearn.metrics import confusion_matrix\n",
        "yhat_probs = model.predict(X_test)\n",
        "yhat_classes = (yhat_probs > 0.5).astype(\"int32\")\n",
        "report = classification_report(Y_test, yhat_classes)\n",
        "print(report)\n",
        "matrix = confusion_matrix(Y_test, yhat_classes)\n",
        "print(matrix)\n"
      ],
      "metadata": {
        "colab": {
          "base_uri": "https://localhost:8080/",
          "height": 232
        },
        "id": "1gTRD3RWQUED",
        "outputId": "87858c27-75bb-4477-f79f-a85653ad8cf6"
      },
      "execution_count": 1,
      "outputs": [
        {
          "output_type": "error",
          "ename": "NameError",
          "evalue": "ignored",
          "traceback": [
            "\u001b[0;31m---------------------------------------------------------------------------\u001b[0m",
            "\u001b[0;31mNameError\u001b[0m                                 Traceback (most recent call last)",
            "\u001b[0;32m<ipython-input-1-d6d57d3131e5>\u001b[0m in \u001b[0;36m<module>\u001b[0;34m()\u001b[0m\n\u001b[1;32m      8\u001b[0m \u001b[0;32mfrom\u001b[0m \u001b[0msklearn\u001b[0m\u001b[0;34m.\u001b[0m\u001b[0mmetrics\u001b[0m \u001b[0;32mimport\u001b[0m \u001b[0mroc_auc_score\u001b[0m\u001b[0;34m\u001b[0m\u001b[0;34m\u001b[0m\u001b[0m\n\u001b[1;32m      9\u001b[0m \u001b[0;32mfrom\u001b[0m \u001b[0msklearn\u001b[0m\u001b[0;34m.\u001b[0m\u001b[0mmetrics\u001b[0m \u001b[0;32mimport\u001b[0m \u001b[0mconfusion_matrix\u001b[0m\u001b[0;34m\u001b[0m\u001b[0;34m\u001b[0m\u001b[0m\n\u001b[0;32m---> 10\u001b[0;31m \u001b[0myhat_probs\u001b[0m \u001b[0;34m=\u001b[0m \u001b[0mmodel\u001b[0m\u001b[0;34m.\u001b[0m\u001b[0mpredict\u001b[0m\u001b[0;34m(\u001b[0m\u001b[0mX_test\u001b[0m\u001b[0;34m)\u001b[0m\u001b[0;34m\u001b[0m\u001b[0;34m\u001b[0m\u001b[0m\n\u001b[0m\u001b[1;32m     11\u001b[0m \u001b[0myhat_classes\u001b[0m \u001b[0;34m=\u001b[0m \u001b[0;34m(\u001b[0m\u001b[0myhat_probs\u001b[0m \u001b[0;34m>\u001b[0m \u001b[0;36m0.5\u001b[0m\u001b[0;34m)\u001b[0m\u001b[0;34m.\u001b[0m\u001b[0mastype\u001b[0m\u001b[0;34m(\u001b[0m\u001b[0;34m\"int32\"\u001b[0m\u001b[0;34m)\u001b[0m\u001b[0;34m\u001b[0m\u001b[0;34m\u001b[0m\u001b[0m\n\u001b[1;32m     12\u001b[0m \u001b[0mreport\u001b[0m \u001b[0;34m=\u001b[0m \u001b[0mclassification_report\u001b[0m\u001b[0;34m(\u001b[0m\u001b[0mY_test\u001b[0m\u001b[0;34m,\u001b[0m \u001b[0myhat_classes\u001b[0m\u001b[0;34m)\u001b[0m\u001b[0;34m\u001b[0m\u001b[0;34m\u001b[0m\u001b[0m\n",
            "\u001b[0;31mNameError\u001b[0m: name 'model' is not defined"
          ]
        }
      ]
    }
  ]
}